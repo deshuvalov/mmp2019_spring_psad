{
 "cells": [
  {
   "cell_type": "markdown",
   "metadata": {},
   "source": [
    "### Здравствуйте, меня зовут *Дмитрий Попов*, вот моё Задание №3!\n",
    "\n",
    "---\n",
    "# Сравнение моделей регрессии"
   ]
  },
  {
   "cell_type": "code",
   "execution_count": 1,
   "metadata": {},
   "outputs": [],
   "source": [
    "import pandas as pd\n",
    "import numpy as np\n",
    "import seaborn as sns\n",
    "import matplotlib.pyplot as plt\n",
    "import statsmodels.api as sm"
   ]
  },
  {
   "cell_type": "code",
   "execution_count": 2,
   "metadata": {},
   "outputs": [
    {
     "data": {
      "text/html": [
       "<div>\n",
       "<style scoped>\n",
       "    .dataframe tbody tr th:only-of-type {\n",
       "        vertical-align: middle;\n",
       "    }\n",
       "\n",
       "    .dataframe tbody tr th {\n",
       "        vertical-align: top;\n",
       "    }\n",
       "\n",
       "    .dataframe thead th {\n",
       "        text-align: right;\n",
       "    }\n",
       "</style>\n",
       "<table border=\"1\" class=\"dataframe\">\n",
       "  <thead>\n",
       "    <tr style=\"text-align: right;\">\n",
       "      <th></th>\n",
       "      <th>err1</th>\n",
       "      <th>err2</th>\n",
       "    </tr>\n",
       "  </thead>\n",
       "  <tbody>\n",
       "    <tr>\n",
       "      <th>276</th>\n",
       "      <td>-0.135899</td>\n",
       "      <td>-0.143716</td>\n",
       "    </tr>\n",
       "    <tr>\n",
       "      <th>199</th>\n",
       "      <td>-0.249256</td>\n",
       "      <td>-0.267647</td>\n",
       "    </tr>\n",
       "    <tr>\n",
       "      <th>747</th>\n",
       "      <td>-0.180651</td>\n",
       "      <td>-0.154153</td>\n",
       "    </tr>\n",
       "    <tr>\n",
       "      <th>103</th>\n",
       "      <td>0.623561</td>\n",
       "      <td>0.630723</td>\n",
       "    </tr>\n",
       "    <tr>\n",
       "      <th>108</th>\n",
       "      <td>-0.628934</td>\n",
       "      <td>-0.622847</td>\n",
       "    </tr>\n",
       "  </tbody>\n",
       "</table>\n",
       "</div>"
      ],
      "text/plain": [
       "         err1      err2\n",
       "276 -0.135899 -0.143716\n",
       "199 -0.249256 -0.267647\n",
       "747 -0.180651 -0.154153\n",
       "103  0.623561  0.630723\n",
       "108 -0.628934 -0.622847"
      ]
     },
     "execution_count": 2,
     "metadata": {},
     "output_type": "execute_result"
    }
   ],
   "source": [
    "rmodels = pd.read_table(\"rmodels.txt\")\n",
    "rmodels.sample(5)"
   ]
  },
  {
   "cell_type": "code",
   "execution_count": 3,
   "metadata": {},
   "outputs": [
    {
     "data": {
      "text/plain": [
       "<matplotlib.axes._subplots.AxesSubplot at 0x21ab27f9130>"
      ]
     },
     "execution_count": 3,
     "metadata": {},
     "output_type": "execute_result"
    },
    {
     "data": {
      "image/png": "[encoded data removed]",
      "text/plain": [
       "<Figure size 864x504 with 1 Axes>"
      ]
     },
     "metadata": {
      "needs_background": "light"
     },
     "output_type": "display_data"
    }
   ],
   "source": [
    "plt.figure(figsize=(12, 7))\n",
    "sns.distplot(rmodels[\"err1\"])\n",
    "sns.distplot(rmodels[\"err2\"])"
   ]
  },
  {
   "cell_type": "markdown",
   "metadata": {},
   "source": [
    "Проверьте данные на нормальность с помощью тестов Колмогорова-Смирнова `kstest(x, 'norm')` и Шапиро-Уилка `shapiro(x)` библиотеки `scipy`. Можно ли использовать qq-график для обоснования использования методов, подразумевающих нормальность? То есть, можем ли мы на основе qq-графика удостовериться в том, что, например, двухвыборочный t-критерий Стьюдента использовать правомернo?"
   ]
  },
  {
   "cell_type": "code",
   "execution_count": 5,
   "metadata": {},
   "outputs": [],
   "source": [
    "from scipy import stats"
   ]
  },
  {
   "cell_type": "code",
   "execution_count": 8,
   "metadata": {},
   "outputs": [
    {
     "data": {
      "text/plain": [
       "KstestResult(statistic=0.14963996161911286, pvalue=5.106513019549098e-18)"
      ]
     },
     "execution_count": 8,
     "metadata": {},
     "output_type": "execute_result"
    }
   ],
   "source": [
    "stats.kstest(rmodels['err1'], 'norm')"
   ]
  },
  {
   "cell_type": "code",
   "execution_count": 9,
   "metadata": {},
   "outputs": [
    {
     "data": {
      "text/plain": [
       "KstestResult(statistic=0.1508576745490468, pvalue=2.6272748192454066e-18)"
      ]
     },
     "execution_count": 9,
     "metadata": {},
     "output_type": "execute_result"
    }
   ],
   "source": [
    "stats.kstest(rmodels['err2'], 'norm')"
   ]
  },
  {
   "cell_type": "code",
   "execution_count": 11,
   "metadata": {},
   "outputs": [
    {
     "data": {
      "text/plain": [
       "(0.955877959728241, 8.689481777590516e-16)"
      ]
     },
     "execution_count": 11,
     "metadata": {},
     "output_type": "execute_result"
    }
   ],
   "source": [
    "stats.shapiro(rmodels['err1'])"
   ]
  },
  {
   "cell_type": "code",
   "execution_count": 12,
   "metadata": {},
   "outputs": [
    {
     "data": {
      "text/plain": [
       "(0.956586480140686, 1.198743473327388e-15)"
      ]
     },
     "execution_count": 12,
     "metadata": {},
     "output_type": "execute_result"
    }
   ],
   "source": [
    "stats.shapiro(rmodels['err2'])"
   ]
  },
  {
   "cell_type": "markdown",
   "metadata": {},
   "source": [
    "Тесты показывают, что данные не нормальны с очень большой уверенностью. В предыдущем задании мы уже видели ситуацию, когда гипотеза нормальности не была отвергнута qq-графиком, но была отвергнута тестами. Тем более график можно исследовать только \"на глаз\" (\"из чертежа следует\"). Так что нет, график нельзя использовать для обоснования методов, использующих нормальность."
   ]
  },
  {
   "cell_type": "markdown",
   "metadata": {},
   "source": [
    "# Критерий Уилкоксона-Манна-Уитни для независимых выборок."
   ]
  },
  {
   "cell_type": "markdown",
   "metadata": {},
   "source": [
    "Первая идея, когда мы слышим слова “гипотеза о равенстве средних”, это конечно t-критерий Стьюдента. Это и понятно – действительно, если данные приходят из нормального распределения, то этот критериий достаточно мощный и использовать следует именно его. Кроме того, этот критерий достаточно устойчив к незначительным отклонениям от нормальности.\n",
    "\n",
    "При этом на практике и в индустрии подавляющее большинство реальных данных никогда не распределено по нормальному закону. Есть ли хорошие альтернативы этому критерию?\n",
    "\n",
    "Такой альтернативой, которую часто исопльзуют на практике, является критерий ранговых сумм Уилкоксона-Манна-Уитни. Рассмотрим модель смеси двух нормальных распределений\n",
    "\n",
    "$$F(x) = (1-\\varepsilon)\\Phi(x) +\\Phi(x/3) $$ \n",
    "\n",
    "Интересно, что уже при $\\varepsilon \\ge 0.01$ критерий ранговых сумм становится более точным критерием (имеет меньшую асимптотическую дисперсию), чем t-критерий. Кроме того есть теорема, что этот критерий не может потерять в асимптотической точности больше, чем $14$% и может быть сколь угодно более точным, чем $t$-критерий. Именно поэтому критерий ранговых сумм так важен для практического применения.\n",
    "\n",
    "Проверьте гипотезу об однородности двух распределений, из которых получены выборки с помощью критерия Уилкоксона-Манна-Уитни."
   ]
  },
  {
   "cell_type": "code",
   "execution_count": 87,
   "metadata": {},
   "outputs": [],
   "source": [
    "def MWW_test(p, q):\n",
    "    n1, n2 = len(p), len(q)\n",
    "    n = n1 + n2\n",
    "    all_elems = np.empty(n)\n",
    "    all_elems[:n1] = p\n",
    "    all_elems[n1:] = q\n",
    "    indicator = np.zeros(n)\n",
    "    indicator[:n1] = 1\n",
    "    \n",
    "    rank_arg = np.argsort(all_elems)\n",
    "    statistics = (np.arange(1, n + 1) * indicator[rank_arg]).sum()\n",
    "    #statistics2 = (np.arange(1, n + 1) * (1 - all_elems[:, 1])).sum()\n",
    "    #statistics = max(statistics1, statistics2)\n",
    "    \n",
    "    mean = n1 * (n1 + n2 + 1) / 2\n",
    "    std = np.sqrt(n1 * n2 * (n1 + n2 + 1) / 12)\n",
    "    \n",
    "    pvalue = 2 * stats.norm.sf(abs(statistics), loc=mean, scale=std)\n",
    "    return statistics, pvalue"
   ]
  },
  {
   "cell_type": "code",
   "execution_count": 88,
   "metadata": {},
   "outputs": [
    {
     "data": {
      "text/plain": [
       "(808112.0, 0.9087869916154557)"
      ]
     },
     "execution_count": 88,
     "metadata": {},
     "output_type": "execute_result"
    }
   ],
   "source": [
    "MWW_test(rmodels['err1'], rmodels['err2'])"
   ]
  },
  {
   "cell_type": "markdown",
   "metadata": {},
   "source": [
    "*p-value* очень высок ($\\ge 0.9$), поэтому нулевая гипотеза об однородности выборки не отвергается. Более того, уверенность в ней достаточно высока."
   ]
  },
  {
   "cell_type": "markdown",
   "metadata": {},
   "source": [
    "# Двухвыборочный перестановочный критерий для независимых выборок."
   ]
  },
  {
   "cell_type": "markdown",
   "metadata": {},
   "source": [
    "Другим мощным классом статистических критериев является класс перестановочных критериев.\n",
    "\n",
    "Чтобы лучше понять сферу применений перестановочного критерия, дадим некоторое его сравнение с $t$-критерием:\n",
    "\n",
    "- $t$-критерий формирует нулевую гипотезу относительно равенства средних, перестановочные критерии, как правило, задают нулевую гипотезу более широко – в терминах равенства распределений\n",
    "\n",
    "Двухвыборочный $t$-критерий подразумевает, что нормальным должно быть распределение разностей $\\bar{X}_1−\\bar{X}_2$, и основывается на том, что правильным образом отнормированная эта разность распределена по закону Стьюдента. Перестановочные критерии считают статистику по данным, не прибегая к гипотезам о конкретном виде распределения, и оценивают распределение с помощью повторных выборок из данных.\n",
    "\n",
    "- $t$-критерий дает точные значения достигаемого уровня значимости только если разность между средними в двух группах имеет распределение не сильно отклоняющееся от нормального. Перестановочный тест дает точное значение $p_{value}$ даже если распределение очень сильно отклоняется от нормального.\n",
    "\n",
    "Перестановочный тест часто используется, когда нужна большая точность и предположение о нормальности данных нереалистично, а также для того, чтобы проверить эти предположения.\n",
    "\n",
    "В частности, для проверки этого предположения часто прибегают к следующей процедуре. Из объединенной выборки выбирают случайно по схеме без возвращения столько объектов, сколько было изначально в одной из них (скажем, в первой). Остальные объекты полагают попавшими во вторую группу. Дальше считают некоторую статистику (в данном случае разницу средних значениях в этих двух группах) и ее запоминают.\n",
    "\n",
    "Повторяя такую процедуру много раз, достигаемый уровень значимости получают как долю значений статистики (разности средних в нашем примере) таких же или более экстремальных, чем значение статистики, которое получилось по исходным выборкам (из которых мы делаем псевдовыборки). Если это значение находится далеко от $p_{value}$ $t$-критерия, то считается, что $t$-критерий для этих данных ненадежен.\n",
    "\n",
    "Тонкий вопрос о том, сколько нужно сделать таких псевдовыборок, решают следующим образом. Если истинное значение достигаемого уровня значимости равно $p$, то стандартное отклонение оценки $p_{value}$ равно $\\sqrt{p(1−p)/B}$, где $B$ - это количество сделанных псевдовыборок. Часто также переходят к верхней оценке этого значения $(\\sqrt{1/(4B)})$.\n",
    "\n",
    "- Реализуйте подобную процедуру самостоятельно для точности порядка $10^{-4}$.\n",
    "- Cравните получившееся p-value с таковым для $t$-критерия.\n",
    "- Cравните получившееся p-value с таковым для критерия Манна-Уитни `mannwhitneyu`."
   ]
  },
  {
   "cell_type": "code",
   "execution_count": 107,
   "metadata": {},
   "outputs": [],
   "source": [
    "import tqdm\n",
    "from sklearn.model_selection import train_test_split"
   ]
  },
  {
   "cell_type": "code",
   "execution_count": 110,
   "metadata": {},
   "outputs": [],
   "source": [
    "def permutation_independent_test(p, q):\n",
    "    n1, n2 = len(p), len(q)\n",
    "    n = n1 + n2\n",
    "    accuracy = 5e-4\n",
    "    n_samples = int(accuracy ** -2.0 * (0.95 * 0.05) + 0.5)\n",
    "    data = np.concatenate([p, q])\n",
    "    t_stat = p.mean() - q.mean()\n",
    "    counter = 0.0\n",
    "    \n",
    "    for _ in tqdm.tqdm_notebook(range(n_samples)):\n",
    "        a, b = train_test_split(data, test_size=n1)\n",
    "        perm_stat = a.mean() - b.mean()\n",
    "        counter += abs(perm_stat) > abs(t_stat)\n",
    "    \n",
    "    return counter / n_samples"
   ]
  },
  {
   "cell_type": "code",
   "execution_count": 111,
   "metadata": {},
   "outputs": [
    {
     "name": "stderr",
     "output_type": "stream",
     "text": [
      "<ipython-input-110-b737342c95b6>:10: TqdmDeprecationWarning: This function will be removed in tqdm==5.0.0\n",
      "Please use `tqdm.notebook.tqdm` instead of `tqdm.tqdm_notebook`\n",
      "  for _ in tqdm.tqdm_notebook(range(n_samples)):\n"
     ]
    },
    {
     "data": {
      "application/vnd.jupyter.widget-view+json": {
       "model_id": "2738dc04f2d14d5392cbec695c35b927",
       "version_major": 2,
       "version_minor": 0
      },
      "text/plain": [
       "HBox(children=(FloatProgress(value=0.0, max=190000.0), HTML(value='')))"
      ]
     },
     "metadata": {},
     "output_type": "display_data"
    },
    {
     "name": "stdout",
     "output_type": "stream",
     "text": [
      "\n"
     ]
    },
    {
     "data": {
      "text/plain": [
       "0.9253789473684211"
      ]
     },
     "execution_count": 111,
     "metadata": {},
     "output_type": "execute_result"
    }
   ],
   "source": [
    "permutation_independent_test(rmodels['err1'], rmodels['err2'])"
   ]
  },
  {
   "cell_type": "code",
   "execution_count": 112,
   "metadata": {},
   "outputs": [
    {
     "data": {
      "text/plain": [
       "0.9251022877320578"
      ]
     },
     "execution_count": 112,
     "metadata": {},
     "output_type": "execute_result"
    }
   ],
   "source": [
    "ttest_ind(rmodels['err1'], rmodels['err2'], equal_var=False).pvalue"
   ]
  },
  {
   "cell_type": "code",
   "execution_count": 113,
   "metadata": {},
   "outputs": [
    {
     "data": {
      "text/plain": [
       "0.9088230165122059"
      ]
     },
     "execution_count": 113,
     "metadata": {},
     "output_type": "execute_result"
    }
   ],
   "source": [
    "mannwhitneyu(rmodels['err1'], rmodels['err2'], alternative='two-sided').pvalue"
   ]
  },
  {
   "cell_type": "markdown",
   "metadata": {},
   "source": [
    "*Ответ*: Несмотря на ненормальность выборок, критерий Стьюдента показывает то же значение, что и перестановочный. Критерий Манна-Уитни показывает отличающееся значение, но всё ещё похожее ($\\ge 0.9$). Это означает, что все эти тесты дали бы одинаковый результат неотклонения нулевой гипотезы."
   ]
  },
  {
   "cell_type": "markdown",
   "metadata": {},
   "source": [
    "# Двухвыборочный перестановочный критерий для зависимых выборок."
   ]
  },
  {
   "cell_type": "markdown",
   "metadata": {},
   "source": [
    "В случае, если выборки связаны, то предыдущая схема неприменима: нет смысла переставлять значения между разными объектам. В таком случае прибегают к тому, что переставляют значения внутри каждого объекта, получая таким образом новые псевдовыборки, по которым также считают статистику и запоминают ее. Повторяя такую процедуру много раз, $p_{value}$ находят также, как и в предыдущем случае – считая долю таких же или еще более экстремальных значений статистики по псевдовыборкам в сравнении со статистикой, посчитанной по исходной выборке.\n",
    "\n",
    "- Реализуйте описанную процедуру самостоятельно для точности порядка $10^{-4}$.\n",
    "- Cравните получившееся $p_{value}$ с таковым для t-критерия.\n",
    "- Cравните получившееся $p_{value}$ с таковым для критерия Уилкоксона `wilcoxon`.\n",
    "\n",
    "Не забудьте, что вам в данном случае каждый из критериев нужно вызвать с параметрами, соответствующими связанным выборкам."
   ]
  },
  {
   "cell_type": "code",
   "execution_count": 123,
   "metadata": {},
   "outputs": [],
   "source": [
    "def permutation_dependent_test(p, q):\n",
    "    n1, n2 = len(p), len(q)\n",
    "    n = n1 + n2\n",
    "    accuracy = 5e-4\n",
    "    n_samples = int(accuracy ** -2.0 * (0.99 * 0.01) + 0.5)\n",
    "    data = p - q\n",
    "    t_stat = data.mean()\n",
    "    counter = 0.0\n",
    "    \n",
    "    for _ in tqdm.tqdm_notebook(range(n_samples)):\n",
    "        a, b = train_test_split(data, test_size=0.5)\n",
    "        perm_stat = a.mean() - b.mean()\n",
    "        counter += abs(perm_stat) > abs(t_stat)\n",
    "    \n",
    "    return counter / n_samples"
   ]
  },
  {
   "cell_type": "code",
   "execution_count": 124,
   "metadata": {},
   "outputs": [
    {
     "name": "stderr",
     "output_type": "stream",
     "text": [
      "<ipython-input-123-6e8bbe36ecd0>:10: TqdmDeprecationWarning: This function will be removed in tqdm==5.0.0\n",
      "Please use `tqdm.notebook.tqdm` instead of `tqdm.tqdm_notebook`\n",
      "  for _ in tqdm.tqdm_notebook(range(n_samples)):\n"
     ]
    },
    {
     "data": {
      "application/vnd.jupyter.widget-view+json": {
       "model_id": "173d076ce73a42189b2df9b8469b2ae9",
       "version_major": 2,
       "version_minor": 0
      },
      "text/plain": [
       "HBox(children=(FloatProgress(value=0.0, max=39600.0), HTML(value='')))"
      ]
     },
     "metadata": {},
     "output_type": "display_data"
    },
    {
     "name": "stdout",
     "output_type": "stream",
     "text": [
      "\n"
     ]
    },
    {
     "data": {
      "text/plain": [
       "0.0029292929292929295"
      ]
     },
     "execution_count": 124,
     "metadata": {},
     "output_type": "execute_result"
    }
   ],
   "source": [
    "permutation_dependent_test(rmodels['err1'], rmodels['err2'])"
   ]
  },
  {
   "cell_type": "code",
   "execution_count": 125,
   "metadata": {},
   "outputs": [
    {
     "data": {
      "text/plain": [
       "(6.924007691101541e-09,)"
      ]
     },
     "execution_count": 125,
     "metadata": {},
     "output_type": "execute_result"
    }
   ],
   "source": [
    "stats.ttest_rel(rmodels['err1'], rmodels['err2']).pvalue,"
   ]
  },
  {
   "cell_type": "code",
   "execution_count": 126,
   "metadata": {},
   "outputs": [
    {
     "data": {
      "text/plain": [
       "3.6665224292023824e-07"
      ]
     },
     "execution_count": 126,
     "metadata": {},
     "output_type": "execute_result"
    }
   ],
   "source": [
    "stats.wilcoxon(rmodels['err1'], rmodels['err2'], alternative='two-sided').pvalue"
   ]
  },
  {
   "cell_type": "markdown",
   "metadata": {},
   "source": [
    "Как и в предыдущем случае, видим одинаковое поведение уровня значимости для разных тестов -- хотя порядки сильно отличаются, всё равно максимальный из них достаточно близок к нулю."
   ]
  },
  {
   "cell_type": "markdown",
   "metadata": {},
   "source": [
    "# Выводы"
   ]
  },
  {
   "cell_type": "markdown",
   "metadata": {},
   "source": [
    "В данной выборке мы увидели случай, когда условия применимости критерия Стьюдента возможны даже в случае ненормальности выборок. Для этого мы провели перестановочные тесты для зависимых и независимых выборок и убедились, что значения уровня значимости достаточно близки. В таком случае критерию Стьюдента можно доверять даже при ненормальной выборке."
   ]
  }
 ],
 "metadata": {
  "kernelspec": {
   "display_name": "Python 3",
   "language": "python",
   "name": "python3"
  },
  "language_info": {
   "codemirror_mode": {
    "name": "ipython",
    "version": 3
   },
   "file_extension": ".py",
   "mimetype": "text/x-python",
   "name": "python",
   "nbconvert_exporter": "python",
   "pygments_lexer": "ipython3",
   "version": "3.8.2"
  }
 },
 "nbformat": 4,
 "nbformat_minor": 4
}
