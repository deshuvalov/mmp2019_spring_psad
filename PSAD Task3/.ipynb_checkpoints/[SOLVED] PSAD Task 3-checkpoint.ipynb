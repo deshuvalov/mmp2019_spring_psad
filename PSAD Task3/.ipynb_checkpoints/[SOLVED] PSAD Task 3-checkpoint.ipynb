{
 "cells": [
  {
   "cell_type": "markdown",
   "metadata": {},
   "source": [
    "### Здравствуйте, меня зовут *Максим Находнов*, вот моё Задание №3!\n",
    "\n",
    "---\n",
    "# Сравнение моделей регрессии"
   ]
  },
  {
   "cell_type": "code",
   "execution_count": 1,
   "metadata": {},
   "outputs": [],
   "source": [
    "from itertools import chain\n",
    "\n",
    "import tqdm\n",
    "import scipy.stats\n",
    "import numpy as np\n",
    "import pandas as pd\n",
    "import seaborn as sns\n",
    "import statsmodels.api\n",
    "import statsmodels.api as sm\n",
    "import matplotlib.pyplot as plt\n",
    "\n",
    "sns.set()\n",
    "%matplotlib inline"
   ]
  },
  {
   "cell_type": "code",
   "execution_count": 2,
   "metadata": {},
   "outputs": [
    {
     "data": {
      "text/html": [
       "<div>\n",
       "<style scoped>\n",
       "    .dataframe tbody tr th:only-of-type {\n",
       "        vertical-align: middle;\n",
       "    }\n",
       "\n",
       "    .dataframe tbody tr th {\n",
       "        vertical-align: top;\n",
       "    }\n",
       "\n",
       "    .dataframe thead th {\n",
       "        text-align: right;\n",
       "    }\n",
       "</style>\n",
       "<table border=\"1\" class=\"dataframe\">\n",
       "  <thead>\n",
       "    <tr style=\"text-align: right;\">\n",
       "      <th></th>\n",
       "      <th>err1</th>\n",
       "      <th>err2</th>\n",
       "    </tr>\n",
       "  </thead>\n",
       "  <tbody>\n",
       "    <tr>\n",
       "      <th>341</th>\n",
       "      <td>0.114815</td>\n",
       "      <td>0.112306</td>\n",
       "    </tr>\n",
       "    <tr>\n",
       "      <th>884</th>\n",
       "      <td>-0.837010</td>\n",
       "      <td>-0.822750</td>\n",
       "    </tr>\n",
       "    <tr>\n",
       "      <th>352</th>\n",
       "      <td>-1.145180</td>\n",
       "      <td>-1.152634</td>\n",
       "    </tr>\n",
       "    <tr>\n",
       "      <th>272</th>\n",
       "      <td>0.537035</td>\n",
       "      <td>0.540687</td>\n",
       "    </tr>\n",
       "    <tr>\n",
       "      <th>822</th>\n",
       "      <td>-0.151408</td>\n",
       "      <td>-0.143707</td>\n",
       "    </tr>\n",
       "  </tbody>\n",
       "</table>\n",
       "</div>"
      ],
      "text/plain": [
       "         err1      err2\n",
       "341  0.114815  0.112306\n",
       "884 -0.837010 -0.822750\n",
       "352 -1.145180 -1.152634\n",
       "272  0.537035  0.540687\n",
       "822 -0.151408 -0.143707"
      ]
     },
     "execution_count": 2,
     "metadata": {},
     "output_type": "execute_result"
    }
   ],
   "source": [
    "rmodels = pd.read_table(\"rmodels.txt\")\n",
    "rmodels.sample(5)"
   ]
  },
  {
   "cell_type": "code",
   "execution_count": 3,
   "metadata": {},
   "outputs": [
    {
     "data": {
      "text/plain": [
       "<matplotlib.axes._subplots.AxesSubplot at 0x1927e092e48>"
      ]
     },
     "execution_count": 3,
     "metadata": {},
     "output_type": "execute_result"
    },
    {
     "data": {
      "image/png": "[encoded data removed]",
      "text/plain": [
       "<Figure size 864x504 with 1 Axes>"
      ]
     },
     "metadata": {
      "needs_background": "light"
     },
     "output_type": "display_data"
    }
   ],
   "source": [
    "plt.figure(figsize=(12, 7))\n",
    "sns.distplot(rmodels[\"err1\"])\n",
    "sns.distplot(rmodels[\"err2\"])"
   ]
  },
  {
   "cell_type": "markdown",
   "metadata": {},
   "source": [
    "Проверьте данные на нормальность с помощью тестов Колмогорова-Смирнова `kstest(x, 'norm')` и Шапиро-Уилка `shapiro(x)` библиотеки `scipy`. Можно ли использовать qq-график для обоснования использования методов, подразумевающих нормальность? То есть, можем ли мы на основе qq-графика удостовериться в том, что, например, двухвыборочный t-критерий Стьюдента использовать правомернo?"
   ]
  },
  {
   "cell_type": "code",
   "execution_count": 4,
   "metadata": {},
   "outputs": [
    {
     "name": "stdout",
     "output_type": "stream",
     "text": [
      "P-value from Kolmogorov test for err1: 5.1e-18\n",
      "P-value from Kolmogorov  test for err2: 2.6e-18\n",
      "P-value from Kolmogorov  test for err1 - err2: 3.5e-195\n",
      "\n",
      "P-value from Shapiro test for err1: 8.7e-16\n",
      "P-value from Shapiro test for err1: 8.7e-16\n",
      "P-value from Shapiro test for err1 - err2: 5.9e-30\n"
     ]
    }
   ],
   "source": [
    "print(\n",
    "    ('P-value from Kolmogorov test for err1: {0:.1e}\\n'\n",
    "    'P-value from Kolmogorov  test for err2: {1:.1e}\\n'\n",
    "    'P-value from Kolmogorov  test for err1 - err2: {2:.1e}\\n').format(\n",
    "    scipy.stats.kstest(rmodels[\"err1\"], 'norm').pvalue,\n",
    "    scipy.stats.kstest(rmodels[\"err2\"], 'norm').pvalue,\n",
    "    scipy.stats.kstest(rmodels[\"err1\"] - rmodels[\"err2\"], 'norm').pvalue\n",
    "))\n",
    "\n",
    "print(\n",
    "    ('P-value from Shapiro test for err1: {0:.1e}\\n'\n",
    "    'P-value from Shapiro test for err1: {0:.1e}\\n'\n",
    "    'P-value from Shapiro test for err1 - err2: {2:.1e}').format(\n",
    "    scipy.stats.shapiro(rmodels[\"err1\"])[1],\n",
    "    scipy.stats.shapiro(rmodels[\"err2\"])[1],\n",
    "    scipy.stats.shapiro(rmodels[\"err1\"] - rmodels[\"err2\"])[1]\n",
    "))"
   ]
  },
  {
   "cell_type": "code",
   "execution_count": 5,
   "metadata": {},
   "outputs": [
    {
     "data": {
      "image/png": "[encoded data removed]",
      "text/plain": [
       "<Figure size 1440x360 with 3 Axes>"
      ]
     },
     "metadata": {
      "needs_background": "light"
     },
     "output_type": "display_data"
    }
   ],
   "source": [
    "fig, axes = plt.subplots(1, 3, figsize=(20, 5))\n",
    "\n",
    "statsmodels.api.qqplot(\n",
    "    rmodels[\"err1\"], fit=True, ax=axes[0], \n",
    "    line='45', color='red', label='rmodels_err1', markersize=2\n",
    ")\n",
    "statsmodels.api.qqplot(\n",
    "    np.random.randn(rmodels[\"err1\"].shape[0]), fit=True, ax=axes[0], \n",
    "    color='blue', label='normal samples', markersize=2\n",
    ")\n",
    "\n",
    "statsmodels.api.qqplot(\n",
    "    rmodels[\"err2\"], fit=True, ax=axes[1], \n",
    "    line='45', color='red', label='rmodels_err2', markersize=2\n",
    ")\n",
    "statsmodels.api.qqplot(\n",
    "    np.random.randn(rmodels[\"err2\"].shape[0]), fit=True, ax=axes[1], \n",
    "    color='blue', label='normal samples', markersize=2\n",
    ")\n",
    "\n",
    "statsmodels.api.qqplot(\n",
    "    rmodels[\"err1\"] - rmodels[\"err2\"], fit=True, ax=axes[2], \n",
    "    line='45', color='red', label='rmodels_err1 - rmodels_err2', markersize=2\n",
    ")\n",
    "statsmodels.api.qqplot(\n",
    "    np.random.randn((rmodels[\"err1\"] - rmodels[\"err2\"]).shape[0]), fit=True, ax=axes[2], \n",
    "    color='blue', label='normal samples', markersize=2\n",
    ")\n",
    "\n",
    "for ax in axes:\n",
    "    ax.legend()\n",
    "    ax.grid(True)\n",
    "    ax.set_xlim(-4., 4.)\n",
    "    ax.set_ylim(-4., 4.)\n",
    "    \n",
    "plt.show()"
   ]
  },
  {
   "cell_type": "markdown",
   "metadata": {},
   "source": [
    "1. Оба теста показывают, что ни сами данные rmodels['err1'], rmodels['err2'], ни их попарную разность нельзя считать нормально распределёнными, следовательно, критерий Стьюдента не применим.\n",
    "2. QQ-график не даёт численную оценку того, насколько распределение отклоняется от нормального, поэтому применять его для принятия решений довольно затруднительно. Например, для данных rmodels на qq-графике видно, что и rmodels['err1'], и rmodels['err2'] дают результат схожий с выборкой из нормального распределения того же размера, т.е. нельзя однозначно сказать, что распределение данных отлично от нормального, однако, результаты статистических тестов чётко говорят о не нормальности выборок."
   ]
  },
  {
   "cell_type": "markdown",
   "metadata": {},
   "source": [
    "# Критерий Уилкоксона-Манна-Уитни для независимых выборок."
   ]
  },
  {
   "cell_type": "markdown",
   "metadata": {},
   "source": [
    "Первая идея, когда мы слышим слова “гипотеза о равенстве средних”, это конечно t-критерий Стьюдента. Это и понятно – действительно, если данные приходят из нормального распределения, то этот критериий достаточно мощный и использовать следует именно его. Кроме того, этот критерий достаточно устойчив к незначительным отклонениям от нормальности.\n",
    "\n",
    "При этом на практике и в индустрии подавляющее большинство реальных данных никогда не распределено по нормальному закону. Есть ли хорошие альтернативы этому критерию?\n",
    "\n",
    "Такой альтернативой, которую часто используют на практике, является критерий ранговых сумм Уилкоксона-Манна-Уитни. Рассмотрим модель смеси двух нормальных распределений\n",
    "\n",
    "$$F(x) = (1-\\varepsilon)\\Phi(x) +\\Phi(x/3) $$ \n",
    "\n",
    "Интересно, что уже при $\\varepsilon \\ge 0.01$ критерий ранговых сумм становится более точным критерием (имеет меньшую асимптотическую дисперсию), чем t-критерий. Кроме того есть теорема, что этот критерий не может потерять в асимптотической точности больше, чем $14$% и может быть сколь угодно более точным, чем $t$-критерий. Именно поэтому критерий ранговых сумм так важен для практического применения.\n",
    "\n",
    "Проверьте гипотезу об однородности двух распределений, из которых получены выборки с помощью критерия Уилкоксона-Манна-Уитни."
   ]
  },
  {
   "cell_type": "code",
   "execution_count": 6,
   "metadata": {},
   "outputs": [],
   "source": [
    "def get_Wilcoxon_Mann_Whitney_statistics(a, b):\n",
    "    statistics = 0.0\n",
    "    c = chain(((True, value) for value in a), ((False, value) for value in b))\n",
    "    for idx, (isA, _)  in enumerate(sorted(c, key=lambda x: x[1])):\n",
    "        statistics += isA * (idx + 1)\n",
    "    return statistics\n",
    "\n",
    "def get_Wilcoxon_Mann_Whitney_pvalue(a, b, statistics=None):\n",
    "    n1 = b.shape[0]\n",
    "    n2 = a.shape[0]\n",
    "    \n",
    "    base_distribution_mean = n1 * (n1 + n2 + 1.0) / 2.0\n",
    "    base_distribution_scale = np.sqrt(n1 * n2 * (n1 + n2 + 1.0) / 12.0)\n",
    "    \n",
    "    statistics = get_Wilcoxon_Mann_Whitney_statistics(a, b) if statistics is None else statistics\n",
    "    \n",
    "    return 2 * scipy.stats.norm.sf(np.abs(statistics), loc=base_distribution_mean, scale=base_distribution_scale)\n",
    "\n",
    "def Wilcoxon_Mann_Whitney_Test(a, b):\n",
    "    statistics = get_Wilcoxon_Mann_Whitney_statistics(a, b)\n",
    "    return statistics, get_Wilcoxon_Mann_Whitney_pvalue(a, b, statistics)"
   ]
  },
  {
   "cell_type": "code",
   "execution_count": 7,
   "metadata": {},
   "outputs": [
    {
     "name": "stdout",
     "output_type": "stream",
     "text": [
      "Staticstics and P-value from Wilcoxon-Mann-Whitney Test: 808112.0, 0.909\n"
     ]
    }
   ],
   "source": [
    "print('Staticstics and P-value from Wilcoxon-Mann-Whitney Test: {0:.1f}, {1:.3f}'.format(\n",
    "    *Wilcoxon_Mann_Whitney_Test(rmodels['err1'], rmodels['err2'])    \n",
    "))"
   ]
  },
  {
   "cell_type": "markdown",
   "metadata": {},
   "source": [
    "$p_{value} \\ge 0.05$, следовательно отвегрнуть нулевую гипотезу об однородности распределений нельзя"
   ]
  },
  {
   "cell_type": "markdown",
   "metadata": {},
   "source": [
    "# Двухвыборочный перестановочный критерий для независимых выборок."
   ]
  },
  {
   "cell_type": "markdown",
   "metadata": {},
   "source": [
    "Другим мощным классом статистических критериев является класс перестановочных критериев.\n",
    "\n",
    "Чтобы лучше понять сферу применений перестановочного критерия, дадим некоторое его сравнение с $t$-критерием:\n",
    "\n",
    "- $t$-критерий формирует нулевую гипотезу относительно равенства средних, перестановочные критерии, как правило, задают нулевую гипотезу более широко – в терминах равенства распределений\n",
    "\n",
    "Двухвыборочный $t$-критерий подразумевает, что нормальным должно быть распределение разностей $\\bar{X}_1−\\bar{X}_2$, и основывается на том, что правильным образом отнормированная эта разность распределена по закону Стьюдента. Перестановочные критерии считают статистику по данным, не прибегая к гипотезам о конкретном виде распределения, и оценивают распределение с помощью повторных выборок из данных.\n",
    "\n",
    "- $t$-критерий дает точные значения достигаемого уровня значимости только если разность между средними в двух группах имеет распределение не сильно отклоняющееся от нормального. Перестановочный тест дает точное значение $p_{value}$ даже если распределение очень сильно отклоняется от нормального.\n",
    "\n",
    "Перестановочный тест часто используется, когда нужна большая точность и предположение о нормальности данных нереалистично, а также для того, чтобы проверить эти предположения.\n",
    "\n",
    "В частности, для проверки этого предположения часто прибегают к следующей процедуре. Из объединенной выборки выбирают случайно по схеме без возвращения столько объектов, сколько было изначально в одной из них (скажем, в первой). Остальные объекты полагают попавшими во вторую группу. Дальше считают некоторую статистику (в данном случае разницу средних значениях в этих двух группах) и ее запоминают.\n",
    "\n",
    "Повторяя такую процедуру много раз, достигаемый уровень значимости получают как долю значений статистики (разности средних в нашем примере) таких же или более экстремальных, чем значение статистики, которое получилось по исходным выборкам (из которых мы делаем псевдовыборки). Если это значение находится далеко от $p_{value}$ $t$-критерия, то считается, что $t$-критерий для этих данных ненадежен.\n",
    "\n",
    "Тонкий вопрос о том, сколько нужно сделать таких псевдовыборок, решают следующим образом. Если истинное значение достигаемого уровня значимости равно $p$, то стандартное отклонение оценки $p_{value}$ равно $\\sqrt{p(1−p)/B}$, где $B$ - это количество сделанных псевдовыборок. Часто также переходят к верхней оценке этого значения $(\\sqrt{1/(4B)})$.\n",
    "\n",
    "- Реализуйте подобную процедуру самостоятельно для точности порядка $10^{-4}$.\n",
    "- Cравните получившееся p-value с таковым для $t$-критерия.\n",
    "- Cравните получившееся p-value с таковым для критерия Манна-Уитни `mannwhitneyu`."
   ]
  },
  {
   "cell_type": "code",
   "execution_count": 8,
   "metadata": {},
   "outputs": [],
   "source": [
    "max_error = 5e-4\n",
    "n_samples = int(np.ceil(np.power(max_error, -2.0) / 4.0))"
   ]
  },
  {
   "cell_type": "code",
   "execution_count": 9,
   "metadata": {},
   "outputs": [],
   "source": [
    "n1, n2 = rmodels['err1'].shape[0], rmodels['err2'].shape[0]\n",
    "\n",
    "base_t = np.mean(rmodels['err1']) - np.mean(rmodels['err2'])\n",
    "base_data = np.concatenate([rmodels['err1'], rmodels['err2']])"
   ]
  },
  {
   "cell_type": "code",
   "execution_count": 10,
   "metadata": {},
   "outputs": [
    {
     "data": {
      "application/vnd.jupyter.widget-view+json": {
       "model_id": "3e1108181aab4918ab9a2b1e815a3ef1",
       "version_major": 2,
       "version_minor": 0
      },
      "text/plain": [
       "HBox(children=(IntProgress(value=0, max=1000000), HTML(value='')))"
      ]
     },
     "metadata": {},
     "output_type": "display_data"
    },
    {
     "name": "stdout",
     "output_type": "stream",
     "text": [
      "\n"
     ]
    }
   ],
   "source": [
    "n_superior = 0.0\n",
    "for idx in tqdm.tqdm_notebook(range(n_samples)):\n",
    "    permutation = np.random.permutation(n1 + n2)\n",
    "    permutted_data = base_data[permutation]\n",
    "    t = np.mean(permutted_data[:n1]) - np.mean(permutted_data[n1:])\n",
    "    n_superior += np.abs(t) >= np.abs(base_t)\n",
    "    \n",
    "p_value = n_superior / n_samples"
   ]
  },
  {
   "cell_type": "code",
   "execution_count": 11,
   "metadata": {},
   "outputs": [
    {
     "name": "stdout",
     "output_type": "stream",
     "text": [
      "P-value from Permutation Test: 0.925\n",
      "P-value from Student Test: 0.925\n",
      "P-value from Wilcoxon-Mann-Whitney Test: 0.909\n"
     ]
    }
   ],
   "source": [
    "print(\n",
    "    ('P-value from Permutation Test: {0:.3f}\\n'\n",
    "     'P-value from Student Test: {1:.3f}\\n'\n",
    "     'P-value from Wilcoxon-Mann-Whitney Test: {2:.3f}').format(\n",
    "    p_value, \n",
    "    scipy.stats.ttest_ind(rmodels['err1'], rmodels['err2'], equal_var=False).pvalue,\n",
    "    scipy.stats.mannwhitneyu(rmodels['err1'], rmodels['err2'], alternative='two-sided').pvalue\n",
    "))"
   ]
  },
  {
   "cell_type": "markdown",
   "metadata": {},
   "source": [
    "Значения $p_{value}$ приблизетельно равны для всех трёх тестов. Т.е. применение любого из них привело бы к одинаковому выводу о равенстве средних, несмотря на то, что критерий Стьюдента не применим для данных выборок.   "
   ]
  },
  {
   "cell_type": "markdown",
   "metadata": {},
   "source": [
    "# Двухвыборочный перестановочный критерий для зависимых выборок."
   ]
  },
  {
   "cell_type": "markdown",
   "metadata": {},
   "source": [
    "В случае, если выборки связаны, то предыдущая схема неприменима: нет смысла переставлять значения между разными объектам. В таком случае прибегают к тому, что переставляют значения внутри каждого объекта, получая таким образом новые псевдовыборки, по которым также считают статистику и запоминают ее. Повторяя такую процедуру много раз, $p_{value}$ находят также, как и в предыдущем случае – считая долю таких же или еще более экстремальных значений статистики по псевдовыборкам в сравнении со статистикой, посчитанной по исходной выборке.\n",
    "\n",
    "- Реализуйте описанную процедуру самостоятельно для точности порядка $10^{-4}$.\n",
    "- Cравните получившееся $p_{value}$ с таковым для t-критерия.\n",
    "- Cравните получившееся $p_{value}$ с таковым для критерия Уилкоксона `wilcoxon`.\n",
    "\n",
    "Не забудьте, что вам в данном случае каждый из критериев нужно вызвать с параметрами, соответствующими связанным выборкам."
   ]
  },
  {
   "cell_type": "code",
   "execution_count": 12,
   "metadata": {},
   "outputs": [],
   "source": [
    "max_error = 3e-3\n",
    "n_samples = int(np.ceil(np.power(max_error, -2.0) / 4.0))"
   ]
  },
  {
   "cell_type": "code",
   "execution_count": 13,
   "metadata": {},
   "outputs": [],
   "source": [
    "base_data = rmodels['err1'] - rmodels['err2']\n",
    "base_t = np.sum(base_data)"
   ]
  },
  {
   "cell_type": "code",
   "execution_count": 14,
   "metadata": {},
   "outputs": [
    {
     "data": {
      "application/vnd.jupyter.widget-view+json": {
       "model_id": "69da7c8d23ac4ebba2adf69d1449bd42",
       "version_major": 2,
       "version_minor": 0
      },
      "text/plain": [
       "HBox(children=(IntProgress(value=0, max=27778), HTML(value='')))"
      ]
     },
     "metadata": {},
     "output_type": "display_data"
    },
    {
     "name": "stdout",
     "output_type": "stream",
     "text": [
      "\n"
     ]
    }
   ],
   "source": [
    "n_superior = 0.0\n",
    "for idx in tqdm.tqdm_notebook(range(n_samples)):\n",
    "    permutation = np.random.binomial(1, 0.5, rmodels.shape[0])\n",
    "    t = np.sum(base_data[permutation == 0]) - np.sum(base_data[permutation == 1])\n",
    "    n_superior += np.abs(t) >= np.abs(base_t)\n",
    "    \n",
    "p_value = n_superior / n_samples"
   ]
  },
  {
   "cell_type": "code",
   "execution_count": 15,
   "metadata": {},
   "outputs": [
    {
     "name": "stdout",
     "output_type": "stream",
     "text": [
      "P-value from Permutation Test: 0.000e+00\n",
      "P-value from Student Test: 6.924e-09\n",
      "P-value from Wilcoxon Test: 3.667e-07\n"
     ]
    }
   ],
   "source": [
    "print(\n",
    "    ('P-value from Permutation Test: {0:.3e}\\n'\n",
    "     'P-value from Student Test: {1:.3e}\\n'\n",
    "     'P-value from Wilcoxon Test: {2:.3e}').format(\n",
    "    p_value, \n",
    "    scipy.stats.ttest_rel(rmodels['err1'], rmodels['err2']).pvalue,\n",
    "    scipy.stats.wilcoxon(rmodels['err1'], rmodels['err2'], alternative='two-sided').pvalue\n",
    "))"
   ]
  },
  {
   "cell_type": "markdown",
   "metadata": {},
   "source": [
    "Аналогично случаю независимых выборок получили равество значнений $p_{value}$ для трёх заданных тестов. "
   ]
  },
  {
   "cell_type": "markdown",
   "metadata": {},
   "source": [
    "# Выводы"
   ]
  },
  {
   "cell_type": "markdown",
   "metadata": {},
   "source": [
    "Для данных выборок перестановочные тесты дают такой же результат, что и критерий Стьюдента, несмотря на отсутствие теоретических гарантий для применения последнего. Это можно объяснить тем, что тесты на нормальность дают ложно положительный результат, и на самом деле исходные выборки незначительно отклоняются от нормального распределения, оставляя возможность применять критерий Стьюдента."
   ]
  }
 ],
 "metadata": {
  "kernelspec": {
   "display_name": "Python 3",
   "language": "python",
   "name": "python3"
  },
  "language_info": {
   "codemirror_mode": {
    "name": "ipython",
    "version": 3
   },
   "file_extension": ".py",
   "mimetype": "text/x-python",
   "name": "python",
   "nbconvert_exporter": "python",
   "pygments_lexer": "ipython3",
   "version": "3.8.2"
  }
 },
 "nbformat": 4,
 "nbformat_minor": 4
}
